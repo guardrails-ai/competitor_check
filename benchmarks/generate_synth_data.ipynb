{
 "cells": [
  {
   "cell_type": "code",
   "execution_count": 1,
   "metadata": {},
   "outputs": [],
   "source": [
    "THOUSAND = 1000"
   ]
  },
  {
   "cell_type": "code",
   "execution_count": 2,
   "metadata": {},
   "outputs": [
    {
     "name": "stderr",
     "output_type": "stream",
     "text": [
      "/home/zayd/workspace/validator-benchmarks/.venv/lib/python3.11/site-packages/torch/cuda/__init__.py:654: UserWarning: Can't initialize NVML\n",
      "  warnings.warn(\"Can't initialize NVML\")\n",
      "/home/zayd/workspace/validator-benchmarks/.venv/lib/python3.11/site-packages/tqdm/auto.py:21: TqdmWarning: IProgress not found. Please update jupyter and ipywidgets. See https://ipywidgets.readthedocs.io/en/stable/user_install.html\n",
      "  from .autonotebook import tqdm as notebook_tqdm\n"
     ]
    }
   ],
   "source": [
    "from guardrails import Guard\n",
    "\n",
    "content_len = THOUSAND\n",
    "\n",
    "guard = Guard()\n",
    "with open(\"data.csv\", \"w\") as file:\n",
    "    while content_len <= 10000:\n",
    "        content = guard(\n",
    "            model=\"together_ai/databricks/dbrx-instruct\",\n",
    "            messages=[{\n",
    "                \"role\": \"user\",\n",
    "                \"content\": f\"Tell me about the main players in the AI space in {content_len} characters.\"\n",
    "            }],\n",
    "            temperature=1,\n",
    "            repetition_penalty=1,\n",
    "        ).raw_llm_output\n",
    "\n",
    "        content = content.replace(\"\\n\", \" \")\n",
    "        file.write(content + \"\\n\")\n",
    "        content_len += THOUSAND\n",
    "    file.close()\n"
   ]
  }
 ],
 "metadata": {
  "kernelspec": {
   "display_name": ".venv",
   "language": "python",
   "name": "python3"
  },
  "language_info": {
   "codemirror_mode": {
    "name": "ipython",
    "version": 3
   },
   "file_extension": ".py",
   "mimetype": "text/x-python",
   "name": "python",
   "nbconvert_exporter": "python",
   "pygments_lexer": "ipython3",
   "version": "3.11.7"
  }
 },
 "nbformat": 4,
 "nbformat_minor": 2
}
