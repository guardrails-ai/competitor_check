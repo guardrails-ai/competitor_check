{
 "cells": [
  {
   "cell_type": "code",
   "execution_count": 3,
   "metadata": {},
   "outputs": [
    {
     "name": "stdout",
     "output_type": "stream",
     "text": [
      "{'error': '503 Service Unavailable'}\n",
      "outcome='pass' metadata=None value_override=<class 'guardrails.validator_base.PassResult.ValueOverrideSentinel'>\n"
     ]
    }
   ],
   "source": [
    "from main import CompetitorCheck\n",
    "import os\n",
    "os.environ[\"HF_API_KEY\"] = \"\"\n",
    "val = CompetitorCheck(competitors=[\"Apple\"], api_endpoint=\"https://gdgjyhk273gan9he.us-east-1.aws.endpoints.huggingface.cloud\")\n",
    "\n",
    "result = val.validate(\"THIS IS A TEST. Apple\")\n",
    "print(result)"
   ]
  }
 ],
 "metadata": {
  "kernelspec": {
   "display_name": ".venv",
   "language": "python",
   "name": "python3"
  },
  "language_info": {
   "codemirror_mode": {
    "name": "ipython",
    "version": 3
   },
   "file_extension": ".py",
   "mimetype": "text/x-python",
   "name": "python",
   "nbconvert_exporter": "python",
   "pygments_lexer": "ipython3",
   "version": "3.10.3"
  }
 },
 "nbformat": 4,
 "nbformat_minor": 2
}
